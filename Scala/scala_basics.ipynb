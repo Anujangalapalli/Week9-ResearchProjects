{
 "cells": [
  {
   "cell_type": "markdown",
   "metadata": {},
   "source": [
    "# Introduction to Scala"
   ]
  },
  {
   "cell_type": "code",
   "execution_count": 2,
   "metadata": {},
   "outputs": [
    {
     "data": {
      "text/plain": [
       "defined object HelloWorld\n"
      ]
     },
     "execution_count": 2,
     "metadata": {},
     "output_type": "execute_result"
    }
   ],
   "source": [
    "object HelloWorld {\n",
    "  def main(args: Array[String]) {\n",
    "    println(\"Hello, World!\")\n",
    "  }\n",
    "}"
   ]
  },
  {
   "cell_type": "code",
   "execution_count": 3,
   "metadata": {},
   "outputs": [
    {
     "data": {
      "text/plain": [
       "v1: String = foo\n",
       "v2: String = bar\n"
      ]
     },
     "execution_count": 3,
     "metadata": {},
     "output_type": "execute_result"
    }
   ],
   "source": [
    "val v1: String = \"foo\"\n",
    "val v2 = \"bar\""
   ]
  },
  {
   "cell_type": "code",
   "execution_count": 4,
   "metadata": {},
   "outputs": [
    {
     "ename": "<console>",
     "evalue": "25: error: reassignment to val",
     "output_type": "error",
     "traceback": [
      "<console>:25: error: reassignment to val",
      "       i = 1 // Compilation error",
      "         ^",
      ""
     ]
    }
   ],
   "source": [
    "val i = 0\n",
    "i = 1 // Compilation error"
   ]
  },
  {
   "cell_type": "code",
   "execution_count": 5,
   "metadata": {},
   "outputs": [
    {
     "ename": "<console>",
     "evalue": "24: error: not found: value initContext",
     "output_type": "error",
     "traceback": [
      "<console>:24: error: not found: value initContext",
      "       lazy val context = initContext()",
      "                          ^",
      ""
     ]
    }
   ],
   "source": [
    "lazy val context = initContext()"
   ]
  },
  {
   "cell_type": "code",
   "execution_count": 6,
   "metadata": {},
   "outputs": [
    {
     "data": {
      "text/plain": [
       "counter: Int = 5\n",
       "counter: Int = 5\n"
      ]
     },
     "execution_count": 6,
     "metadata": {},
     "output_type": "execute_result"
    }
   ],
   "source": [
    "var counter = 0\n",
    "counter = counter + 5"
   ]
  },
  {
   "cell_type": "code",
   "execution_count": 7,
   "metadata": {},
   "outputs": [
    {
     "ename": "<console>",
     "evalue": "25: error: type mismatch;",
     "output_type": "error",
     "traceback": [
      "<console>:25: error: type mismatch;",
      " found   : Int(5)",
      " required: String",
      "       color = 5 // Invalid",
      "               ^",
      ""
     ]
    }
   ],
   "source": [
    "var color = \"red\"\n",
    "color = 5 // Invalid"
   ]
  },
  {
   "cell_type": "code",
   "execution_count": 9,
   "metadata": {},
   "outputs": [
    {
     "name": "stdout",
     "output_type": "stream",
     "text": [
      "7\n",
      "7\n"
     ]
    }
   ],
   "source": [
    "println(7) // Prints 7\n",
    "\n",
    "println {\n",
    "  val i = 5\n",
    "  i + 2\n",
    "} // Prints 7"
   ]
  },
  {
   "cell_type": "code",
   "execution_count": 12,
   "metadata": {},
   "outputs": [
    {
     "ename": "<console>",
     "evalue": "2: error: ';' expected but integer literal found.",
     "output_type": "error",
     "traceback": [
      "<console>:2: error: ';' expected but integer literal found.",
      "       println 7",
      "               ^",
      ""
     ]
    }
   ],
   "source": [
    "println 7"
   ]
  },
  {
   "cell_type": "markdown",
   "metadata": {},
   "source": [
    "# Basic Types"
   ]
  },
  {
   "cell_type": "markdown",
   "metadata": {},
   "source": [
    "Scala is considered a pure object-oriented language because every value is an object. Hence, there is no primitive in Scala (like Java int for example).\n",
    "\n",
    "There are 8 basic types in Scala:\n",
    "* Byte\n",
    "* Short\n",
    "* Int\n",
    "* Long\n",
    "* Float\n",
    "* Double\n",
    "* Char\n",
    "* Boolean"
   ]
  },
  {
   "cell_type": "code",
   "execution_count": 13,
   "metadata": {},
   "outputs": [
    {
     "name": "stdout",
     "output_type": "stream",
     "text": [
      "Hello Bob!\n"
     ]
    },
    {
     "data": {
      "text/plain": [
       "name: String = Bob\n"
      ]
     },
     "execution_count": 13,
     "metadata": {},
     "output_type": "execute_result"
    }
   ],
   "source": [
    "val name = \"Bob\"\n",
    "println(s\"Hello $name!\") // Hello Bob!"
   ]
  },
  {
   "cell_type": "code",
   "execution_count": 15,
   "metadata": {},
   "outputs": [
    {
     "data": {
      "text/plain": [
       "a: Array[Int] = Array(5, 2)\n"
      ]
     },
     "execution_count": 15,
     "metadata": {},
     "output_type": "execute_result"
    }
   ],
   "source": [
    "val a = new Array[Int](2)\n",
    "a(0) = 5\n",
    "a(1) = 2"
   ]
  },
  {
   "cell_type": "code",
   "execution_count": 16,
   "metadata": {},
   "outputs": [
    {
     "data": {
      "text/plain": [
       "a: Array[Int] = Array(5, 2)\n"
      ]
     },
     "execution_count": 16,
     "metadata": {},
     "output_type": "execute_result"
    }
   ],
   "source": [
    "val a = Array(5, 2)"
   ]
  },
  {
   "cell_type": "code",
   "execution_count": 17,
   "metadata": {},
   "outputs": [
    {
     "data": {
      "text/plain": [
       "m: Array[Array[Int]] = Array(Array(5, 0, 0), Array(0, 0, 0), Array(0, 0, 0))\n"
      ]
     },
     "execution_count": 17,
     "metadata": {},
     "output_type": "execute_result"
    }
   ],
   "source": [
    "val m = Array.ofDim[Int](3, 3)\n",
    "m(0)(0) = 5"
   ]
  },
  {
   "cell_type": "code",
   "execution_count": 18,
   "metadata": {},
   "outputs": [
    {
     "ename": "<console>",
     "evalue": "27: error: value update is not a member of List[Int]",
     "output_type": "error",
     "traceback": [
      "<console>:27: error: value update is not a member of List[Int]",
      "       list(0) = 5 // Compilation error",
      "       ^",
      ""
     ]
    }
   ],
   "source": [
    "val list = List(5, 2)\n",
    "list(0) = 5 // Compilation error"
   ]
  },
  {
   "cell_type": "code",
   "execution_count": 19,
   "metadata": {},
   "outputs": [
    {
     "data": {
      "text/plain": [
       "colors: scala.collection.immutable.Map[String,String] = Map(red -> #FF0000, azure -> #F0FFFF, peru -> #CD853F)\n"
      ]
     },
     "execution_count": 19,
     "metadata": {},
     "output_type": "execute_result"
    }
   ],
   "source": [
    "val colors = Map(\"red\" -> \"#FF0000\", \"azure\" -> \"#F0FFFF\", \"peru\" -> \"#CD853F\")"
   ]
  },
  {
   "cell_type": "code",
   "execution_count": 20,
   "metadata": {},
   "outputs": [
    {
     "data": {
      "text/plain": [
       "colors1: scala.collection.immutable.Map[String,String] = Map(red -> #FF0000, azure -> #F0FFFF, peru -> #CD853F)\n",
       "colors2: scala.collection.immutable.Map[String,String] = Map(red -> #FF0000, azure -> #F0FFFF, peru -> #CD853F, blue -> #0033FF)\n"
      ]
     },
     "execution_count": 20,
     "metadata": {},
     "output_type": "execute_result"
    }
   ],
   "source": [
    "val colors1 = Map(\"red\" -> \"#FF0000\", \"azure\" -> \"#F0FFFF\", \"peru\" -> \"#CD853F\")\n",
    "val colors2 = colors1 + (\"blue\" -> \"#0033FF\")"
   ]
  },
  {
   "cell_type": "code",
   "execution_count": 21,
   "metadata": {},
   "outputs": [
    {
     "data": {
      "text/plain": [
       "states: scala.collection.mutable.Map[String,String] = Map(AL -> Alabama, AK -> Alaska)\n"
      ]
     },
     "execution_count": 21,
     "metadata": {},
     "output_type": "execute_result"
    }
   ],
   "source": [
    "val states = scala.collection.mutable.Map(\"AL\" -> \"Alabama\", \"AK\" -> \"tobedefined\")\n",
    "states(\"AK\") = \"Alaska\""
   ]
  },
  {
   "cell_type": "code",
   "execution_count": 22,
   "metadata": {},
   "outputs": [
    {
     "data": {
      "text/plain": [
       "add: (x: Int, y: Int)Int\n"
      ]
     },
     "execution_count": 22,
     "metadata": {},
     "output_type": "execute_result"
    }
   ],
   "source": [
    "def add(x: Int, y: Int): Int = {\n",
    "  x + y\n",
    "}"
   ]
  },
  {
   "cell_type": "code",
   "execution_count": 23,
   "metadata": {},
   "outputs": [
    {
     "ename": "<console>",
     "evalue": "28: error: method printSomething is defined twice;",
     "output_type": "error",
     "traceback": [
      "<console>:28: error: method printSomething is defined twice;",
      "  the conflicting method printSomething was defined at line 24:5",
      "       def printSomething(s: String): Unit = {",
      "           ^",
      ""
     ]
    }
   ],
   "source": [
    "def printSomething(s: String) = {\n",
    "  println(s)\n",
    "}\n",
    "\n",
    "def printSomething(s: String): Unit = {\n",
    "  println(s)\n",
    "}"
   ]
  },
  {
   "cell_type": "code",
   "execution_count": null,
   "metadata": {},
   "outputs": [],
   "source": []
  }
 ],
 "metadata": {
  "kernelspec": {
   "display_name": "spylon-kernel",
   "language": "scala",
   "name": "spylon-kernel"
  },
  "language_info": {
   "codemirror_mode": "text/x-scala",
   "file_extension": ".scala",
   "help_links": [
    {
     "text": "MetaKernel Magics",
     "url": "https://metakernel.readthedocs.io/en/latest/source/README.html"
    }
   ],
   "mimetype": "text/x-scala",
   "name": "scala",
   "pygments_lexer": "scala",
   "version": "0.4.1"
  }
 },
 "nbformat": 4,
 "nbformat_minor": 4
}
